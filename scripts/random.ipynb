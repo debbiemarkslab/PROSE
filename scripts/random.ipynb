{
 "cells": [
  {
   "cell_type": "code",
   "execution_count": 2,
   "metadata": {},
   "outputs": [],
   "source": [
    "import pandas as pd\n",
    "\n",
    "import random"
   ]
  },
  {
   "cell_type": "code",
   "execution_count": 3,
   "metadata": {},
   "outputs": [],
   "source": [
    "\n",
    "\n",
    "def generate_dna_sequence(length):\n",
    "    \"\"\"\n",
    "    Generate a random DNA sequence of the specified length.\n",
    "    \n",
    "    Parameters:\n",
    "    length (int): The desired length of the DNA sequence\n",
    "    \n",
    "    Returns:\n",
    "    str: A random DNA sequence consisting of A, T, G, and C\n",
    "    \"\"\"\n",
    "    if not isinstance(length, int) or length <= 0:\n",
    "        raise ValueError(\"Length must be a positive integer\")\n",
    "    \n",
    "    # DNA nucleotide bases\n",
    "    bases = ['A', 'T', 'G', 'C']\n",
    "    \n",
    "    # Generate random sequence\n",
    "    dna_sequence = ''.join(random.choice(bases) for _ in range(length))\n",
    "    \n",
    "    return dna_sequence"
   ]
  },
  {
   "cell_type": "code",
   "execution_count": 4,
   "metadata": {},
   "outputs": [],
   "source": [
    "seqs = [generate_dna_sequence(1000) for i in range(1000)]\n",
    "df = pd.DataFrame(seqs)"
   ]
  },
  {
   "cell_type": "code",
   "execution_count": null,
   "metadata": {},
   "outputs": [
    {
     "name": "stdout",
     "output_type": "stream",
     "text": [
      "                                                     0\n",
      "0    GGCGAGGGTACTTTGTGTCAGCTACCCACCTAATCATATGGTCATA...\n",
      "1    ACTCTAATCGTTAGATAACAGGAGCGATAGTAGACGCCAAGAGCAC...\n",
      "2    TTTGTCTAGTCACTAGCTAATTGTCGATGCGGACCATATTGGCCCT...\n",
      "3    AAGAGGACCGCACCCCCGCCGGCTGAGCAATATAGTTCATAACGCT...\n",
      "4    ATCACTCACAGGCGTAGATGGTTTGAGCGTTACGTCTGTACCAACT...\n",
      "..                                                 ...\n",
      "995  AACTCGCGCAGGGCACATCTCCGGTATACCACCTAATGCTTACCAG...\n",
      "996  TTAGATTGATCGGTTGCGAGACCCTCGGATATGGAGGTACCAACCC...\n",
      "997  GGTTGATACCCGGACCTCCGGTCATGGAACGTAATTTAAGGCGAGA...\n",
      "998  CCAACTCCAATGATTCATGGAGCGGAGCACGGAACACGTCGCCGGT...\n",
      "999  GAAGTTTGTCCTTTGTACGTTATGGTCTTCGTTTAATCGCTTGTAG...\n",
      "\n",
      "[1000 rows x 1 columns]\n"
     ]
    }
   ],
   "source": [
    "print(df)\n"
   ]
  }
 ],
 "metadata": {
  "kernelspec": {
   "display_name": "base",
   "language": "python",
   "name": "python3"
  },
  "language_info": {
   "codemirror_mode": {
    "name": "ipython",
    "version": 3
   },
   "file_extension": ".py",
   "mimetype": "text/x-python",
   "name": "python",
   "nbconvert_exporter": "python",
   "pygments_lexer": "ipython3",
   "version": "3.10.10"
  }
 },
 "nbformat": 4,
 "nbformat_minor": 2
}
